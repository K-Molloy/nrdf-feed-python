{
 "cells": [
  {
   "cell_type": "code",
   "execution_count": 1,
   "metadata": {
    "tags": []
   },
   "outputs": [
    {
     "output_type": "error",
     "ename": "TypeError",
     "evalue": "'NoneType' object is not subscriptable",
     "traceback": [
      "\u001b[0;31m---------------------------------------------------------------------------\u001b[0m",
      "\u001b[0;31mTypeError\u001b[0m                                 Traceback (most recent call last)",
      "\u001b[0;32m<ipython-input-1-9e54c39b1ba6>\u001b[0m in \u001b[0;36m<module>\u001b[0;34m\u001b[0m\n\u001b[1;32m     14\u001b[0m \u001b[0;34m\u001b[0m\u001b[0m\n\u001b[1;32m     15\u001b[0m \u001b[0;34m\u001b[0m\u001b[0m\n\u001b[0;32m---> 16\u001b[0;31m \u001b[0mprint\u001b[0m\u001b[0;34m(\u001b[0m\u001b[0;34m\"Object ID {} UID {} STATE {}\"\u001b[0m\u001b[0;34m.\u001b[0m\u001b[0mformat\u001b[0m\u001b[0;34m(\u001b[0m\u001b[0mmydoc\u001b[0m\u001b[0;34m[\u001b[0m\u001b[0;34m'_id'\u001b[0m\u001b[0;34m]\u001b[0m\u001b[0;34m,\u001b[0m\u001b[0mmydoc\u001b[0m\u001b[0;34m[\u001b[0m\u001b[0;34m'trust_id'\u001b[0m\u001b[0;34m]\u001b[0m\u001b[0;34m,\u001b[0m\u001b[0mmydoc\u001b[0m\u001b[0;34m[\u001b[0m\u001b[0;34m'state'\u001b[0m\u001b[0;34m]\u001b[0m\u001b[0;34m)\u001b[0m\u001b[0;34m)\u001b[0m\u001b[0;34m\u001b[0m\u001b[0;34m\u001b[0m\u001b[0m\n\u001b[0m",
      "\u001b[0;31mTypeError\u001b[0m: 'NoneType' object is not subscriptable"
     ]
    }
   ],
   "source": [
    "%\n",
    "\n",
    "import json \n",
    "from pymongo import *\n",
    "\n",
    "# Create Mongo Connection\n",
    "mongodb = MongoClient(\"mongodb://localhost:27017/nrdf_test_db\")\n",
    "db = mongodb[\"nrdf_test_db\"]\n",
    "\n",
    "\n"
   ]
  },
  {
   "cell_type": "code",
   "execution_count": 13,
   "metadata": {},
   "outputs": [],
   "source": [
    "\n"
   ]
  },
  {
   "cell_type": "code",
   "execution_count": 8,
   "metadata": {
    "tags": []
   },
   "outputs": [
    {
     "output_type": "stream",
     "name": "stdout",
     "text": "817\n"
    }
   ],
   "source": [
    "query = {\n",
    "    \"activation\": { \"$exists\" : True },\n",
    "    \"state\" : \"activated\"\n",
    "}\n",
    "\n",
    "mydoc = db['trains'].find(query)\n",
    "\n",
    "print(\"ACT {}\".format(mydoc.count()))\n",
    "\n",
    "query = {\n",
    "    \"activation\": { \"$exists\" : True },\n",
    "    \"state\" : \"moving\"\n",
    "}\n",
    "\n",
    "mydoc = db['trains'].find(query)\n",
    "\n",
    "print(\"MOV {}\".format(mydoc.count()))\n",
    "\n",
    "query = {\n",
    "    \"activation\": { \"$exists\" : True },\n",
    "    \"state\" : \"cancelled\"\n",
    "}\n",
    "\n",
    "mydoc = db['trains'].find(query)\n",
    "\n",
    "print(\"CAN {}\".format(mydoc.count()))\n",
    "\n",
    "#for x in mydoc:\n",
    "    #print(\"Object ID {} UID {} STATE {}\".format(x['_id'],x['trust_id'],x['state']))"
   ]
  },
  {
   "cell_type": "code",
   "execution_count": null,
   "metadata": {},
   "outputs": [],
   "source": [
    "newState = {\n",
    "    \"$set\": { \"state\": \"slabs\" },\n",
    "    \"$push\" : { \"movements\" : \"apple slices\"} \n",
    "}\n",
    "\n",
    "updateQuery = {\n",
    "    \"_id\" : mydoc['_id']\n",
    "}\n",
    "\n",
    "# Find schedule that conform with activation and update\n",
    "db_confirm = db['trains'].update_one(updateQuery, newState, upsert=True)"
   ]
  }
 ],
 "metadata": {
  "language_info": {
   "codemirror_mode": {
    "name": "ipython",
    "version": 3
   },
   "file_extension": ".py",
   "mimetype": "text/x-python",
   "name": "python",
   "nbconvert_exporter": "python",
   "pygments_lexer": "ipython3",
   "version": "3.7.5-final"
  },
  "orig_nbformat": 2,
  "kernelspec": {
   "name": "python37564bitvenvvenv904de5d730f64cb893d78a754874dc5d",
   "display_name": "Python 3.7.5 64-bit ('venv': venv)"
  }
 },
 "nbformat": 4,
 "nbformat_minor": 2
}